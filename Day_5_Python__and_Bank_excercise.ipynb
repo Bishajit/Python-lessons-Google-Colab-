{
  "nbformat": 4,
  "nbformat_minor": 0,
  "metadata": {
    "colab": {
      "name": "Day_5_Python _and_Bank_excercise.ipynb",
      "provenance": [],
      "collapsed_sections": [],
      "authorship_tag": "ABX9TyOFpZK+Gg3sICn5Jh1Zb+XF",
      "include_colab_link": true
    },
    "kernelspec": {
      "name": "python3",
      "display_name": "Python 3"
    },
    "language_info": {
      "name": "python"
    }
  },
  "cells": [
    {
      "cell_type": "markdown",
      "metadata": {
        "id": "view-in-github",
        "colab_type": "text"
      },
      "source": [
        "<a href=\"https://colab.research.google.com/github/Bishajit/Python-lessons-Google-Colab-/blob/main/Day_5_Python__and_Bank_excercise.ipynb\" target=\"_parent\"><img src=\"https://colab.research.google.com/assets/colab-badge.svg\" alt=\"Open In Colab\"/></a>"
      ]
    },
    {
      "cell_type": "markdown",
      "metadata": {
        "id": "iFXfPaRtkt95"
      },
      "source": [
        ""
      ]
    },
    {
      "cell_type": "code",
      "metadata": {
        "colab": {
          "base_uri": "https://localhost:8080/"
        },
        "id": "XXoIWiiXF4Vh",
        "outputId": "e191082d-88b1-48f1-ab8c-7a4e55a77141"
      },
      "source": [
        "class Rectangle:\n",
        "\n",
        "  def __init__(self,length,width):\n",
        "    self.length = length \n",
        "    self.width = width\n",
        "\n",
        "  def get_area(self):\n",
        "    return self.length * self.width\n",
        "  \n",
        "rectangle_1 = Rectangle(20,20)\n",
        "rectangle_2 = Rectangle(20,20)\n",
        "rectangle_1.get_area()\n",
        "\n",
        "print(id(rectangle_1))\n",
        "print(id(rectangle_2))\n",
        "\n",
        "class Square(Rectangle):\n",
        "  #pass                     if you put pass here you can go without passing Square any values\n",
        "  def __init__(self, length): #Overiding\n",
        "      self.length = length\n",
        "      self.width = length\n",
        "\n",
        "first_square = Square(10)\n",
        "\n",
        "first_square.get_area()\n",
        "\n",
        "dir(rectangle_1)\n"
      ],
      "execution_count": null,
      "outputs": [
        {
          "output_type": "stream",
          "text": [
            "140415947483664\n",
            "140415947481488\n"
          ],
          "name": "stdout"
        },
        {
          "output_type": "execute_result",
          "data": {
            "text/plain": [
              "['__class__',\n",
              " '__delattr__',\n",
              " '__dict__',\n",
              " '__dir__',\n",
              " '__doc__',\n",
              " '__eq__',\n",
              " '__format__',\n",
              " '__ge__',\n",
              " '__getattribute__',\n",
              " '__gt__',\n",
              " '__hash__',\n",
              " '__init__',\n",
              " '__init_subclass__',\n",
              " '__le__',\n",
              " '__lt__',\n",
              " '__module__',\n",
              " '__ne__',\n",
              " '__new__',\n",
              " '__reduce__',\n",
              " '__reduce_ex__',\n",
              " '__repr__',\n",
              " '__setattr__',\n",
              " '__sizeof__',\n",
              " '__str__',\n",
              " '__subclasshook__',\n",
              " '__weakref__',\n",
              " 'get_area',\n",
              " 'length',\n",
              " 'width']"
            ]
          },
          "metadata": {
            "tags": []
          },
          "execution_count": 14
        }
      ]
    },
    {
      "cell_type": "code",
      "metadata": {
        "colab": {
          "base_uri": "https://localhost:8080/"
        },
        "id": "aQ55l-shHP1O",
        "outputId": "2cc88c2b-8ab9-4d8b-cb21-9eb2b9b584fb"
      },
      "source": [
        "class Bank_account:\n",
        "\n",
        "  def __init__(self, name, balance, account_number):\n",
        "      self.name = name #attribute\n",
        "      self.balance = balance #attribute\n",
        "      self.acount_number = account_number #attribute\n",
        "      self.transactions = {\"Dunkin Donut\": \"11\", \"Target\" : \"22\" , \"KFC\": \"10\", \"7-Eleven\": \"15\", \"BP\": \"12.50\", \"Best Buy\":\"44\"}\n",
        "  \n",
        "  def deposit(self):\n",
        "      cash = float(input (\"Enter the amount deposited into bank account\" ))\n",
        "      self.balance += cash \n",
        "      print (f' The amount deposited is: {cash} ')\n",
        "    \n",
        "\n",
        "  def withdraw(self):\n",
        "      cash = float(input(\"Enter amount to withdraw \"))\n",
        "      if self.balance >= cash:\n",
        "          self.balance-=cash\n",
        "          print (f\"You withdrew this amount: {cash} \")\n",
        "      else:\n",
        "          print(\"insuficient balance in your bank account\")\n",
        "\n",
        "  def display_all(self):\n",
        "      print (f\"Net avalible Balance= {self.balance} Name = {self.name} Account number = {self.acount_number} transactions = {self.transactions}\")\n",
        "\n",
        "B = Bank_account(\"Bishajit\", 1000000, 1234234234)\n",
        "B.deposit()\n",
        "B.withdraw()\n",
        "B.display_all()"
      ],
      "execution_count": 63,
      "outputs": [
        {
          "output_type": "stream",
          "text": [
            "Enter the amount deposited into bank account123\n",
            " The amount deposited is: 123.0 \n",
            "Enter amount to withdraw 123\n",
            "You withdrew this amount: 123.0 \n",
            "Net avalible Balance= 1000000.0 Name = Bishajit Account number = 1234234234 transactions = {'Dunkin Donut': '11', 'Target': '22', 'KFC': '10', '7-Eleven': '15', 'BP': '12.50', 'Best Buy': '44'}\n"
          ],
          "name": "stdout"
        }
      ]
    },
    {
      "cell_type": "markdown",
      "metadata": {
        "id": "9Hx9odqFHPTe"
      },
      "source": [
        ""
      ]
    }
  ]
}