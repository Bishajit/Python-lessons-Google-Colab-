{
  "nbformat": 4,
  "nbformat_minor": 0,
  "metadata": {
    "colab": {
      "name": "Copy of Day 4_OOP_Classes.ipynb",
      "provenance": [],
      "include_colab_link": true
    },
    "kernelspec": {
      "name": "python3",
      "display_name": "Python 3"
    },
    "language_info": {
      "name": "python"
    }
  },
  "cells": [
    {
      "cell_type": "markdown",
      "metadata": {
        "id": "view-in-github",
        "colab_type": "text"
      },
      "source": [
        "<a href=\"https://colab.research.google.com/github/Bishajit/Python-lessons-Google-Colab-/blob/main/Copy_of_Day_4_OOP_Classes.ipynb\" target=\"_parent\"><img src=\"https://colab.research.google.com/assets/colab-badge.svg\" alt=\"Open In Colab\"/></a>"
      ]
    },
    {
      "cell_type": "markdown",
      "metadata": {
        "id": "RNfV3p12EGwf"
      },
      "source": [
        "# Python Classes"
      ]
    },
    {
      "cell_type": "code",
      "metadata": {
        "id": "VMUGCDX3Wduq"
      },
      "source": [
        ""
      ],
      "execution_count": null,
      "outputs": []
    },
    {
      "cell_type": "markdown",
      "metadata": {
        "id": "2jGTjcXEEIj2"
      },
      "source": [
        "Python is an object oriented programming language.\n",
        "\n",
        "Everything in Python is an object, with its properties and methods.\n",
        "\n",
        "A Class is like an object constructor, or a \"blueprint\" for creating objects."
      ]
    },
    {
      "cell_type": "markdown",
      "metadata": {
        "id": "8Y5OoT4iEQMp"
      },
      "source": [
        "Create a class\n",
        "To create a class, use the keyword class:\n",
        "Example: Create a class named MyClass, with a property named x:"
      ]
    },
    {
      "cell_type": "code",
      "metadata": {
        "id": "1EmykQhzEMNk",
        "colab": {
          "base_uri": "https://localhost:8080/"
        },
        "outputId": "55107f51-18d4-45d0-8701-0feb45388aff"
      },
      "source": [
        "# class MyClass:\n",
        "#   # x = 5\n",
        "#   pass\n",
        "class MyClass:\n",
        "  x = 5\n",
        "p1 = MyClass()\n",
        "print(p1.x) \n",
        " "
      ],
      "execution_count": null,
      "outputs": [
        {
          "output_type": "stream",
          "text": [
            "5\n"
          ],
          "name": "stdout"
        }
      ]
    },
    {
      "cell_type": "code",
      "metadata": {
        "id": "hFWLgvBMAOE-"
      },
      "source": [
        ""
      ],
      "execution_count": null,
      "outputs": []
    },
    {
      "cell_type": "markdown",
      "metadata": {
        "id": "kOipK8avEafW"
      },
      "source": [
        "**Create Object**"
      ]
    },
    {
      "cell_type": "markdown",
      "metadata": {
        "id": "jbmFY_leEe7Z"
      },
      "source": [
        "we can use the class named MyClass to create objects:\n",
        "Example\n",
        "Create an object named p1, and print the value of x:\n",
        "\n"
      ]
    },
    {
      "cell_type": "code",
      "metadata": {
        "id": "0sAb0TqkEmTS"
      },
      "source": [
        "p1 = MyClass()\n",
        "print(p1.x)"
      ],
      "execution_count": null,
      "outputs": []
    },
    {
      "cell_type": "markdown",
      "metadata": {
        "id": "vR7Sv8V_EpsZ"
      },
      "source": [
        "### The __init__() Function\n",
        "To understand the meaning of classes we have to understand the built-in __init__() function.\n",
        "\n",
        "All classes have a function called __init__(), which is always executed when the class is being initiated.\n",
        "\n",
        "Use the __init__() function to assign values to object properties, or other operations that are necessary to do when the object is being created:"
      ]
    },
    {
      "cell_type": "markdown",
      "metadata": {
        "id": "Cc8FN_MwFWU7"
      },
      "source": [
        "Example\n",
        "Create a class named Person, use the __init__() function to assign values for name and age:"
      ]
    },
    {
      "cell_type": "code",
      "metadata": {
        "id": "tId9vxLmFTBw",
        "colab": {
          "base_uri": "https://localhost:8080/"
        },
        "outputId": "7577314e-a6d4-4d9c-c20d-abbc99c035b2"
      },
      "source": [
        "class Person:\n",
        "  \n",
        "  descriptor = None\n",
        "  def __init__(self, name, age):\n",
        "    self.descriptor = name\n",
        "    self.age = age\n",
        "\n",
        "p1 = Person(\"John\", 36)\n",
        "\n",
        "print(p1.descriptor)\n",
        "print(p1.age)"
      ],
      "execution_count": null,
      "outputs": [
        {
          "output_type": "stream",
          "text": [
            "John\n",
            "36\n"
          ],
          "name": "stdout"
        }
      ]
    },
    {
      "cell_type": "markdown",
      "metadata": {
        "id": "Wd_hsSPVFbZO"
      },
      "source": [
        "Note: The __init__() function is called automatically every time the class is being used to create a new object. It is also called a constructor"
      ]
    },
    {
      "cell_type": "markdown",
      "metadata": {
        "id": "nmfv_AM2FfbO"
      },
      "source": [
        "## Object Methods\n",
        "\n",
        "Objects can also contain methods. Methods in objects are functions that belong to the object.\n",
        "\n",
        "Let us create a method in the Person class:"
      ]
    },
    {
      "cell_type": "markdown",
      "metadata": {
        "id": "bxYTaGKzF5fz"
      },
      "source": [
        "Example\n",
        "Insert a function that prints a greeting, and execute it on the p1 object:"
      ]
    },
    {
      "cell_type": "code",
      "metadata": {
        "id": "-oK5Ml8AF9aT",
        "colab": {
          "base_uri": "https://localhost:8080/"
        },
        "outputId": "0645ab6c-ffb5-498d-b1da-eacd1beab0b5"
      },
      "source": [
        "class Person:\n",
        "  def __init__(self, name, age):\n",
        "    self.name = name\n",
        "    self.age = age\n",
        "\n",
        "\n",
        "  print('let me get _init_')\n",
        "\n",
        "  def myfunc(self):\n",
        "    print(\"Hello my name is \" + self.name)\n",
        "\n",
        "p1 = Person(\"John\", 36)\n",
        "p1.myfunc()"
      ],
      "execution_count": null,
      "outputs": [
        {
          "output_type": "stream",
          "text": [
            "let me get _init_\n",
            "Hello my name is John\n"
          ],
          "name": "stdout"
        }
      ]
    },
    {
      "cell_type": "markdown",
      "metadata": {
        "id": "hjMFZByyOgHO"
      },
      "source": [
        ""
      ]
    },
    {
      "cell_type": "markdown",
      "metadata": {
        "id": "N6fE5CmTMVjx"
      },
      "source": [
        "### The self Parameter\n",
        "Current instance of the class used to access variables that belongs to the class."
      ]
    },
    {
      "cell_type": "code",
      "metadata": {
        "id": "0SMJbm1uMZ5W",
        "colab": {
          "base_uri": "https://localhost:8080/"
        },
        "outputId": "62b3d290-c0cd-4b3b-ffb5-51cc27e2dfd0"
      },
      "source": [
        "class Person:\n",
        "  def __init__(mysillyobject, name, age):\n",
        "    mysillyobject.name = name\n",
        "    mysillyobject.age = age\n",
        "\n",
        "  def myfunc(abc):\n",
        "    print(\"Hello my name is \" + abc.name)\n",
        "\n",
        "p1 = Person(\"John\", 36)\n",
        "p1.myfunc()"
      ],
      "execution_count": null,
      "outputs": [
        {
          "output_type": "stream",
          "text": [
            "Hello my name is John\n"
          ],
          "name": "stdout"
        }
      ]
    },
    {
      "cell_type": "markdown",
      "metadata": {
        "id": "F82XTaYCMmce"
      },
      "source": [
        "### Delete Objects\n",
        "You can delete objects by using the del keyword:"
      ]
    },
    {
      "cell_type": "markdown",
      "metadata": {
        "id": "TG9ivWGDNvKR"
      },
      "source": [
        "Example\n",
        "Delete the p1 object: "
      ]
    },
    {
      "cell_type": "code",
      "metadata": {
        "id": "gZ5e5eusNtAy"
      },
      "source": [
        "del p1"
      ],
      "execution_count": null,
      "outputs": []
    },
    {
      "cell_type": "markdown",
      "metadata": {
        "id": "wvle5a2fKiCQ"
      },
      "source": [
        "Lets create a rectangle class"
      ]
    },
    {
      "cell_type": "code",
      "metadata": {
        "colab": {
          "base_uri": "https://localhost:8080/"
        },
        "id": "T1hBNfpqKgm3",
        "outputId": "dcd0e253-e694-4600-ea60-21ba0cef0f0b"
      },
      "source": [
        "class Rectangle:\n",
        "  def __init__(self,lenth,width,color,line_thickness):\n",
        "    self.lenth = lenth \n",
        "    self.width = width\n",
        "    self.color = color\n",
        "    self.line_thickeness = line_thickness\n",
        "\n",
        "  def area(self):\n",
        "      return(f\"The area is {(self.lenth * self.width)}  \")\n",
        "  \n",
        "  def perimeter(self):\n",
        "      return(f\"The perimeter is {(self.lenth * 2) + (self.width * 2)}\")\n",
        "\n",
        "p1 = Rectangle(20, 30, \"blue\", .40)\n",
        "p1.area(), p1.perimeter() \n"
      ],
      "execution_count": null,
      "outputs": [
        {
          "output_type": "execute_result",
          "data": {
            "text/plain": [
              "('The area is 600  ', 'The perimeter is 100')"
            ]
          },
          "metadata": {
            "tags": []
          },
          "execution_count": 49
        }
      ]
    }
  ]
}