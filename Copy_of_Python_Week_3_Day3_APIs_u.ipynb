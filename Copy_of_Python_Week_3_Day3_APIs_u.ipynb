{
  "nbformat": 4,
  "nbformat_minor": 0,
  "metadata": {
    "colab": {
      "name": "Copy of Python_Week 3_Day3_APIs_u.ipynb",
      "provenance": [],
      "include_colab_link": true
    },
    "kernelspec": {
      "name": "python3",
      "display_name": "Python 3"
    },
    "language_info": {
      "name": "python"
    }
  },
  "cells": [
    {
      "cell_type": "markdown",
      "metadata": {
        "id": "view-in-github",
        "colab_type": "text"
      },
      "source": [
        "<a href=\"https://colab.research.google.com/github/Bishajit/Python-lessons-Google-Colab-/blob/main/Copy_of_Python_Week_3_Day3_APIs_u.ipynb\" target=\"_parent\"><img src=\"https://colab.research.google.com/assets/colab-badge.svg\" alt=\"Open In Colab\"/></a>"
      ]
    },
    {
      "cell_type": "markdown",
      "metadata": {
        "id": "eoTESRL2KBzW"
      },
      "source": [
        "\n",
        "\n",
        "<img src=\"https://i.imgur.com/X9R3e67.png\" style=\"float: left; margin: 20px; height: 55px\">\n",
        "\n",
        "#API's\n",
        "\n",
        "\n",
        "###Learning Objectives\n",
        "\n",
        "By the end of this class we should all be able to answer the following questions:\n",
        "\n",
        "1. What is an API?\n",
        "2. How do I consume one? curk, postman, with code\n",
        "3. How do I make one? (w/Flask if we have time)"
      ]
    },
    {
      "cell_type": "markdown",
      "metadata": {
        "id": "EyHg5ELlzfXI"
      },
      "source": [
        "Lets get some facts about cats Using the Cat Facts API\n",
        "https://catfacts.ninja/fact\n",
        "\n",
        "-Get request (we need the URL, and the route we want to use get the resource we want to use \n",
        "-Response, JSON"
      ]
    },
    {
      "cell_type": "code",
      "metadata": {
        "id": "xdFiJY_4onEZ",
        "colab": {
          "base_uri": "https://localhost:8080/"
        },
        "outputId": "e7612d46-69c0-4c3b-bfa7-c8d4abe11edd"
      },
      "source": [
        "##code here\n",
        "\n",
        "import requests\n",
        "\n",
        "BASE_URL = \"https://catfact.ninja/fact\"\n",
        "\n",
        "\n",
        "meow = requests.get(BASE_URL) #\n",
        "\n",
        "meow.json()\n",
        "\n",
        "print(meow.status_code)\n",
        "\n",
        "if meow.status_code == 200:\n",
        "  #print(meow.json())\n",
        "  #print(type(meow.cont))\n",
        "  print(f\"Your fact of the day is {meow.json()}\")"
      ],
      "execution_count": null,
      "outputs": [
        {
          "output_type": "stream",
          "text": [
            "200\n",
            "Your fact of the day is {'fact': 'Fossil records from two million years ago show evidence of jaguars.', 'length': 67}\n"
          ],
          "name": "stdout"
        }
      ]
    },
    {
      "cell_type": "markdown",
      "metadata": {
        "id": "kYQpyam2pkyd"
      },
      "source": [
        ""
      ]
    },
    {
      "cell_type": "markdown",
      "metadata": {
        "id": "HefOS1plowOA"
      },
      "source": [
        "Let's get some facts about cats. Using the Cat Facts API. https://catfact.ninja/fact. "
      ]
    },
    {
      "cell_type": "code",
      "metadata": {
        "colab": {
          "base_uri": "https://localhost:8080/"
        },
        "id": "a09DZRLCpney",
        "outputId": "2b16ed17-a310-4e85-ab57-b27440e3fdfe"
      },
      "source": [
        "##code here\n",
        "\n",
        "import requests, json\n",
        "\n",
        "BASE_URL = \"https://catfact.ninja/facts\"\n",
        "\n",
        "\n",
        "meow = requests.get(BASE_URL) #\n",
        "\n",
        "meow.json()\n",
        "\n",
        "print(meow.status_code)\n",
        "\n",
        "if meow.status_code == 200:\n",
        "  #print(meow.json())\n",
        "  #print(type(meow.cont))\n",
        "  print(f\"Your fact of the day is {meow.json()}\")"
      ],
      "execution_count": 157,
      "outputs": [
        {
          "output_type": "stream",
          "text": [
            "200\n",
            "Your fact of the day is {'current_page': 1, 'data': [{'fact': 'There are approximately 60,000 hairs per square inch on the back of a cat and about 120,000 per square inch on its underside.', 'length': 125}, {'fact': \"Cats are now Britain's favourite pet: there are 7.7 million cats as opposed to 6.6 million dogs.\", 'length': 96}, {'fact': 'Of all the species of cats, the domestic cat is the only species able to hold its tail vertically while walking. All species of wild cats hold their tail horizontally or tucked between their legs while walking.', 'length': 210}, {'fact': 'Edward Lear, author of \\\\The Owl and the Pussycat\\\\\"\", is said to have had his new house in San Remo built to exactly the same specification as his previous residence, so that his much-loved tabby, Foss, would immediately feel at home.\"\"\"', 'length': 236}, {'fact': \"Jaguars are the only big cats that don't roar.\", 'length': 46}, {'fact': 'The earliest ancestor of the modern cat lived about 30 million years ago. Scientists called it the\\xa0Proailurus, which means “first cat” in Greek. The group of animals that pet cats belong to emerged around 12 million years ago.', 'length': 226}, {'fact': 'A cat will tremble or shiver when it is in extreme pain.', 'length': 56}, {'fact': 'In 1888, more than 300,000 mummified cats were found an Egyptian cemetery. They were stripped of their wrappings and carted off to be used by farmers in England and the U.S. for fertilizer.', 'length': 189}, {'fact': 'Among many other diseases, cats can suffer from anorexia, senility, feline AIDS and acne.', 'length': 89}, {'fact': 'All cats need taurine in their diet to avoid blindness. Cats must also have fat in their diet as they are unable to produce it on their own.', 'length': 140}], 'first_page_url': 'https://catfact.ninja/facts?page=1', 'from': 1, 'last_page': 34, 'last_page_url': 'https://catfact.ninja/facts?page=34', 'links': [{'url': None, 'label': 'pagination.previous', 'active': False}, {'url': 'https://catfact.ninja/facts?page=1', 'label': '1', 'active': True}, {'url': 'https://catfact.ninja/facts?page=2', 'label': '2', 'active': False}, {'url': 'https://catfact.ninja/facts?page=3', 'label': '3', 'active': False}, {'url': 'https://catfact.ninja/facts?page=4', 'label': '4', 'active': False}, {'url': 'https://catfact.ninja/facts?page=5', 'label': '5', 'active': False}, {'url': 'https://catfact.ninja/facts?page=6', 'label': '6', 'active': False}, {'url': 'https://catfact.ninja/facts?page=7', 'label': '7', 'active': False}, {'url': 'https://catfact.ninja/facts?page=8', 'label': '8', 'active': False}, {'url': 'https://catfact.ninja/facts?page=9', 'label': '9', 'active': False}, {'url': 'https://catfact.ninja/facts?page=10', 'label': '10', 'active': False}, {'url': None, 'label': '...', 'active': False}, {'url': 'https://catfact.ninja/facts?page=33', 'label': '33', 'active': False}, {'url': 'https://catfact.ninja/facts?page=34', 'label': '34', 'active': False}, {'url': 'https://catfact.ninja/facts?page=2', 'label': 'pagination.next', 'active': False}], 'next_page_url': 'https://catfact.ninja/facts?page=2', 'path': 'https://catfact.ninja/facts', 'per_page': 10, 'prev_page_url': None, 'to': 10, 'total': 332}\n"
          ],
          "name": "stdout"
        }
      ]
    },
    {
      "cell_type": "markdown",
      "metadata": {
        "id": "I0Z0FxAuokfZ"
      },
      "source": [
        "Let's get some weather data from https://api.openweathermap.org/data/2.5/weather? using our own input and present it to a user\n",
        "\n",
        "\n",
        "\n"
      ]
    },
    {
      "cell_type": "code",
      "metadata": {
        "id": "ad8uQZbWe-Wz",
        "colab": {
          "base_uri": "https://localhost:8080/"
        },
        "outputId": "4c67bd91-c71a-4401-d0e8-6612b21a2e9d"
      },
      "source": [
        "#Code here\n",
        "\n",
        "## Your code here\n",
        "\n",
        "##code here\n",
        "\n",
        "import requests, json\n",
        "\n",
        "# API_KEY = \"9f694d861d4621a32f6e0ff2ba019b49\"\n",
        "# CITY_NAME = \"New York City\" \n",
        "# BASE_URL = f\"http://api.openweathermap.org/data/2.5/weather?q={CITY_NAME}&appid={API_KEY}\"\n",
        "BASE_URL = \"http://api.openweathermap.org/data/2.5/weather?q=New%20york%20city&appid=9f694d861d4621a32f6e0ff2ba019b49\"\n",
        "\n",
        "api_request.json()\n",
        "\n",
        "api_request = requests.get(BASE_URL) #\n",
        "\n",
        "response  = api_request.json()\n",
        "\n",
        "print(api_request.status_code)\n",
        "if request.status_code == 200:\n",
        "    print(f\"Your fact is: {response()}\")\n",
        "else:\n",
        "    print(f\" Error code: {api_request.status_code}\")"
      ],
      "execution_count": 156,
      "outputs": [
        {
          "output_type": "stream",
          "text": [
            "200\n",
            " Error code: 200\n"
          ],
          "name": "stdout"
        }
      ]
    },
    {
      "cell_type": "code",
      "metadata": {
        "colab": {
          "base_uri": "https://localhost:8080/"
        },
        "id": "W1wdecBMWwAZ",
        "outputId": "abfa7b13-5599-46cb-9718-e324842e92cc"
      },
      "source": [
        "#Code here\n",
        "\n",
        "## Your code here\n",
        "\n",
        "##code here\n",
        "\n",
        "import requests, json\n",
        "\n",
        "# API_KEY = \"9f694d861d4621a32f6e0ff2ba019b49\"\n",
        "# CITY_NAME = \"New York City\" \n",
        "# BASE_URL = f\"http://api.openweathermap.org/data/2.5/weather?q={CITY_NAME}&appid={API_KEY}\"\n",
        "BASE_URL = \"http://api.openweathermap.org/data/2.5/weather?q=New%20york%20city&appid=9f694d861d4621a32f6e0ff2ba019b49\"\n",
        "\n",
        "\n",
        "\n",
        "api_request = requests.get(BASE_URL) #\n",
        "\n",
        "responses = api_request\n",
        "\n",
        "print(api_request.status_code)\n",
        "if api_request.status_code == 200:\n",
        "    print(f\"Your fact is: {responses.json()}\")\n",
        "else:\n",
        "    print(f\" Error code: {api_request.status_code}\")"
      ],
      "execution_count": 158,
      "outputs": [
        {
          "output_type": "stream",
          "text": [
            "200\n",
            "Your fact is: {'coord': {'lon': -74.006, 'lat': 40.7143}, 'weather': [{'id': 800, 'main': 'Clear', 'description': 'clear sky', 'icon': '01n'}], 'base': 'stations', 'main': {'temp': 298.45, 'feels_like': 298.94, 'temp_min': 294.94, 'temp_max': 300.46, 'pressure': 1013, 'humidity': 73}, 'visibility': 10000, 'wind': {'speed': 2.57, 'deg': 270}, 'clouds': {'all': 1}, 'dt': 1629431140, 'sys': {'type': 2, 'id': 2039034, 'country': 'US', 'sunrise': 1629367839, 'sunset': 1629416931}, 'timezone': -14400, 'id': 5128581, 'name': 'New York', 'cod': 200}\n"
          ],
          "name": "stdout"
        }
      ]
    },
    {
      "cell_type": "markdown",
      "metadata": {
        "id": "HBdBrtCyuvJh"
      },
      "source": [
        "#Your turn!\n",
        "\n",
        "Find an API here and do something interesting with it: https://apipheny.io/free-api/"
      ]
    },
    {
      "cell_type": "code",
      "metadata": {
        "id": "PhvZ8I7Zut2_"
      },
      "source": [
        ""
      ],
      "execution_count": null,
      "outputs": []
    }
  ]
}