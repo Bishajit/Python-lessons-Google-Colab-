{
  "nbformat": 4,
  "nbformat_minor": 0,
  "metadata": {
    "colab": {
      "name": "Copy of AWS_Week 4_Day3_Serverless_Lambda_Functions.ipynb",
      "provenance": [],
      "collapsed_sections": [],
      "include_colab_link": true
    },
    "kernelspec": {
      "name": "python3",
      "display_name": "Python 3"
    },
    "language_info": {
      "name": "python"
    }
  },
  "cells": [
    {
      "cell_type": "markdown",
      "metadata": {
        "id": "view-in-github",
        "colab_type": "text"
      },
      "source": [
        "<a href=\"https://colab.research.google.com/github/Bishajit/Python-lessons-Google-Colab-/blob/main/Copy_of_AWS_Week_4_Day3_Serverless_Lambda_Functions.ipynb\" target=\"_parent\"><img src=\"https://colab.research.google.com/assets/colab-badge.svg\" alt=\"Open In Colab\"/></a>"
      ]
    },
    {
      "cell_type": "markdown",
      "metadata": {
        "id": "RX4u5QN8we1z"
      },
      "source": [
        "<img src=\"https://i.imgur.com/X9R3e67.png\" style=\"float: left; margin: 20px; height: 55px\">\n",
        "\n",
        "#Serverless & Lambda Functions on AWS\n",
        "\n",
        "\n",
        "###Learning Objectives\n",
        "\n",
        "By the end of this class we should all be able to answer the following questions:\n",
        "\n",
        "1. What is \"serverless\" computing? \n",
        "2. How is it different than traditional computing?\n",
        "3. What are some of the benefits of serverless computing?\n",
        "4. Which AWS services are considered \"serverless\"? Which aren't? Give examples.\n",
        "5. What does the architecture diagram for a typical serverless application look like?\n",
        "6. What is an AWS Lambda function? How does it compare to EC2?\n",
        "7. For what use case should you consider using a AWS Lambda function? What are its limitations?\n",
        "8. How do you \"invoke\" AWS Lambda functions and what are the different kinds of \"triggers\" available?\n",
        "9. What is the \"Serverless Framework\"?\n",
        "10. How can I use the Serverless Framework to deploy serverless applications?\n",
        "\n",
        "### Student Pre-Work\n",
        "*Before this lesson, you should have already:*\n",
        "- Set up an account on AWS\n",
        "\n"
      ]
    },
    {
      "cell_type": "markdown",
      "metadata": {
        "id": "ILKQYg6RkFKY"
      },
      "source": [
        "### Introduction\n",
        "\n",
        "---\n",
        "\n",
        "Today we are going to explore the world of \"serverless\" computing and how to build serverless applications using [AWS Lambda](https://aws.amazon.com/lambda/) functions. \n",
        "\n",
        "A common tool DevOps engineers use for building serverless applications is the aptly-named [Serverless Framework](https://www.serverless.com/). \n",
        "\n",
        "\n",
        "  1. We will begin class by going through serverless concepts and compare to what we already know. (6:15PM - 7:30PM) \n",
        "  2. Then in the second half we will take a more hands on approach and spin up a serverless stack on AWS using the Serverless Framework. (7:45PM - 9:00PM)"
      ]
    },
    {
      "cell_type": "markdown",
      "metadata": {
        "id": "Uz_rVwNTkFgC"
      },
      "source": [
        "##Part 1: What is \"serverless\" computing?\n",
        "---"
      ]
    },
    {
      "cell_type": "markdown",
      "metadata": {
        "id": "ALeNHwX0l0wv"
      },
      "source": [
        "\n",
        "> Serverless computing is a cloud computing execution model in which the cloud provider allocates machine resources on demand, taking care of the servers on behalf of their customers. \n",
        "\n",
        "> **When an app is not in use, there are no computing resources allocated to the app.** Pricing is based on the actual amount of resources consumed by an application. \n",
        "\n",
        "**Check:** How is this different than the pricing model for EC2?\n",
        "\n",
        "> \"Serverless\" is a misnomer in the sense that servers are still used by cloud service providers to execute code for developers. However, developers of serverless applications are not concerned with capacity planning, configuration, management, maintenance, fault tolerance, or scaling of containers, VMs, or physical servers.\n",
        "\n",
        "> Serverless computing can simplify the process of deploying code into production. Serverless code can be used in conjunction with code deployed in traditional styles, such as microservices or monoliths. Alternatively, applications can be written to be purely serverless and use no provisioned servers at all. \n",
        "\n",
        "(From [Wikipedia](https://en.wikipedia.org/wiki/Serverless_computing))\n"
      ]
    },
    {
      "cell_type": "markdown",
      "metadata": {
        "id": "j_65e5sEl2lX"
      },
      "source": [
        "####How is it different than traditional computing?\n",
        "---\n",
        "\n",
        "- See article about [serverless vs. traditional computing](https://northstack.com/cloud-computing-vs-serverless/)"
      ]
    },
    {
      "cell_type": "markdown",
      "metadata": {
        "id": "6LMLQbkYl2i4"
      },
      "source": [
        "####What are some of the benefits of serverless computing?\n",
        "---\n",
        "\n",
        "See AWS's explanation of [serverless computing](https://aws.amazon.com/serverless/)\n",
        "\n",
        "1. *Move from idea to market faster* \n",
        "    - By eliminating operational overhead, your teams can release quickly, get feedback, and iterate to get to market faster.\n",
        "2. *Lower your costs*\n",
        "    - With a pay-for-value billing model, you never pay for over-provisioning and your resource utilization is optimized on your behalf.\n",
        "3. *Adapt at scale*\n",
        "    - With technologies that automatically scale from zero to peak demands, you can adapt to customer needs faster than ever.\n",
        "4. *Build better applications, easier*\n",
        "    - Serverless applications have built-in service integrations, so you can focus on building your application instead of configuring it."
      ]
    },
    {
      "cell_type": "markdown",
      "metadata": {
        "id": "RBhtge81l2gj"
      },
      "source": [
        "#### (Exercise) Which AWS services are considered \"serverless\"? Which aren't? Give examples.\n",
        "---\n",
        "1. **Serverless**:\n",
        "\n",
        "  Examples of serverless *compute*:\n",
        "  - LIST HERE\n",
        "\n",
        "  Examples of serverless *storage*:\n",
        "  - LIST HERE\n",
        "\n",
        "2. **Traditional**:\n",
        "\n",
        "  Examples of \"traditional\" *compute*:\n",
        "  - LIST HERE\n",
        "  \n",
        "  Examples of \"traditional\" *storage*:\n",
        "  - LIST HERE"
      ]
    },
    {
      "cell_type": "markdown",
      "metadata": {
        "id": "miAN67S0l2ns"
      },
      "source": [
        "####What is FaaS?\n",
        "---\n",
        "\n",
        "> Serverless vendors offer compute runtimes, also known as *Function as a Service* (**FaaS**) platforms, which execute application logic but do not store data. Common languages supported by serverless runtimes are Java, Python and PHP. Generally, the functions run under isolation boundaries, such as, Linux containers.\n",
        "\n",
        "**Check:** Explain FaaS in your own words.\n",
        "\n",
        "> **AWS Lambda**, introduced by Amazon in 2014, popularized the abstract serverless computing model. It is supported by a number of additional serverless tools such as the aptly-named Serverless Framework & the AWS Serverless Application Model (AWS SAM)\n",
        "\n",
        "**Check:** What service on AWS made serverless popular around the globe?\n"
      ]
    },
    {
      "cell_type": "markdown",
      "metadata": {
        "id": "_DxqCKk1l173"
      },
      "source": [
        "###What is an AWS Lambda function?\n",
        "---\n",
        "See AWS's explanation of [Lambda functions](https://aws.amazon.com/lambda/) and also its [features](https://aws.amazon.com/lambda/features/).\n",
        "\n",
        ">AWS Lambda is a serverless compute service that lets you run code without provisioning or managing servers, creating workload-aware cluster scaling logic, maintaining event integrations, or managing runtimes. \n",
        "\n",
        "> With Lambda, you can run code for virtually any type of application or backend service - all with zero administration. Just upload your code as a ZIP file or container image, and Lambda automatically and precisely allocates compute execution power and runs your code based on the incoming request or event, for any scale of traffic. \n",
        "\n",
        "> You can set up your code to automatically trigger from over 200 AWS services and SaaS applications or call it directly from any web or mobile app. You can write Lambda functions in your favorite language (Node.js, Python, Go, Java, and more) and use both serverless and container tools, such as AWS SAM or Docker CLI, to build, test, and deploy your functions.\n",
        "\n",
        "**Check**: How does AWS Lambda compare to EC2? Simililarities? Differences?"
      ]
    },
    {
      "cell_type": "markdown",
      "metadata": {
        "id": "46gfSwaZ35Ej"
      },
      "source": [
        "####AWS Lambda concepts\n",
        "\n",
        "See [Getting Started with AWS Lambda](https://docs.aws.amazon.com/lambda/latest/dg/gettingstarted-concepts.html) and let's define some concepts (in your own words):\n",
        "\n",
        "1. Define **function** below:\n",
        "  - \n",
        "\n",
        "2. Define **trigger** below:\n",
        "  - \n",
        "\n",
        "3. Define **event** below:\n",
        "  - \n",
        "\n"
      ]
    },
    {
      "cell_type": "markdown",
      "metadata": {
        "id": "i5ozjQdPvDYk"
      },
      "source": [
        "####For what use case should you consider using a AWS Lambda function? What are its limitations?\n",
        "---\n",
        "\n",
        "Refer to [this](https://www.contino.io/insights/aws-lambda-use-cases) article about popular use cases.\n",
        "\n",
        "Lambda Runtime Environment limitations:\n",
        "\n",
        "- The disk space (ephemeral) is limited to 512 MB.\n",
        "- The memory range is from 128 to 3008 MB.\n",
        "- The maximum execution timeout for a function is 15 minutes.\n"
      ]
    },
    {
      "cell_type": "markdown",
      "metadata": {
        "id": "S_5zQpC5vFYa"
      },
      "source": [
        "####How do you \"invoke\" AWS Lambda functions?\n",
        "---\n",
        "See [invoking Lambda functions](https://docs.aws.amazon.com/lambda/latest/dg/lambda-invocation.html) on AWS\n",
        "\n",
        "- \"Invoking\" = \"Calling\" the function\n",
        "- Synchronous vs. asynchronous invocations\n",
        "  - Synchronous = \"wait for response\"\n",
        "  - Asynchronous = \"don't wait for a response\""
      ]
    },
    {
      "cell_type": "markdown",
      "metadata": {
        "id": "MyMHA3EWvFV0"
      },
      "source": [
        "## Part 2: What is the \"Serverless Framework\"?\n",
        "---\n",
        "> The **Serverless Framework** is a free and open-source web framework written using Node.js. Serverless is the first framework developed for building applications on AWS Lambda, a serverless computing platform provided by Amazon as a part of Amazon Web Services. \n",
        "\n",
        "(TL;DR) It provides an easy way to deploy Lambda functions on AWS.\n",
        "- See [Project on Github](https://github.com/serverless/serverless)"
      ]
    },
    {
      "cell_type": "markdown",
      "metadata": {
        "id": "SIMHzhMivFTf"
      },
      "source": [
        "####Now let's roll up our sleeves and deploy our first AWS Lambda function using the Serverless Framework!\n",
        "[Getting Started Guide](https://www.serverless.com/framework/docs/getting-started/)\n",
        "\n",
        "Steps:\n",
        "1. Install serverless on your machine.\n",
        "2. Intial setup.\n",
        "3. Git clone [this](https://github.com/serverless/examples/tree/master/aws-python) repo for an example AWS Python Lambda function.\n",
        "4. Deploy it.\n",
        "5. Check out the AWS Lambda console and poke around to see what got created.\n"
      ]
    },
    {
      "cell_type": "markdown",
      "metadata": {
        "id": "1yYYwsktvFQy"
      },
      "source": [
        "####Let's take a closer look at the `serverless.yaml` file..."
      ]
    },
    {
      "cell_type": "markdown",
      "metadata": {
        "id": "nvmuVmPA-ych"
      },
      "source": [
        "Wait a sec... what even is a `.yaml` file?\n",
        "> **YAML** is a human-readable data serialization standard that can be used in conjunction with all programming languages and is often used to write configuration files.\n",
        "\n",
        "What does YAML stand for?\n",
        "- \"**Y**et **A**nother **M**arkdown **L**anguage\""
      ]
    },
    {
      "cell_type": "markdown",
      "metadata": {
        "id": "pL70sSqvZn3g"
      },
      "source": [
        "Ok... now that we know what a YAML file is, let's inspect the `serverless.yaml` file again:\n",
        "1. [Functions](https://www.serverless.com/framework/docs/providers/aws/guide/intro#functions)\n",
        "2. [Events](https://www.serverless.com/framework/docs/providers/aws/guide/intro#events)\n",
        "3. [Resources](https://www.serverless.com/framework/docs/providers/aws/guide/intro#resources)\n",
        "4. [Services](https://www.serverless.com/framework/docs/providers/aws/guide/intro#services)"
      ]
    },
    {
      "cell_type": "markdown",
      "metadata": {
        "id": "vmBnTjFaaPbN"
      },
      "source": [
        "###**Challenge**: Deploy a Python Flask API service backed by DynamoDB on AWS\n",
        "\n",
        "- Check out [this](https://github.com/serverless/examples/tree/master/aws-python-flask-dynamodb-api) repo and try to deploy the stack. Take a look at what gets created in AWS. Make sure to cleanup when you are finished!"
      ]
    },
    {
      "cell_type": "markdown",
      "metadata": {
        "id": "NiJ9nZHbupu5"
      },
      "source": [
        "## Teach it back\n",
        "---"
      ]
    },
    {
      "cell_type": "markdown",
      "metadata": {
        "id": "wUO1jXt1uttZ"
      },
      "source": [
        "####What did we learn today? (Feel free to take notes here to summarize your learnings!)"
      ]
    }
  ]
}